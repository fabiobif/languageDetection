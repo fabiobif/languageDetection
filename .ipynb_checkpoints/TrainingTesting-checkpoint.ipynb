{
 "cells": [
  {
   "cell_type": "code",
   "execution_count": 1,
   "metadata": {},
   "outputs": [],
   "source": [
    "import collections\n",
    "import math\n",
    "import os\n",
    "import pandas as pd\n",
    "import numpy as np"
   ]
  },
  {
   "cell_type": "code",
   "execution_count": 2,
   "metadata": {},
   "outputs": [],
   "source": [
    "def CountFrequency(arr): \n",
    "    \n",
    "    return collections.Counter(arr) "
   ]
  },
  {
   "cell_type": "code",
   "execution_count": 3,
   "metadata": {},
   "outputs": [],
   "source": [
    "def token(texto,t,lista):\n",
    "    texto=texto.replace(\" \", \"\")\n",
    "    #print(texto)\n",
    "    tamanho=len(texto)\n",
    "    token=t\n",
    "    [lista.append(texto[i:i+token]) for i in range(0,tamanho,token)]\n",
    "    \n",
    "    return lista"
   ]
  },
  {
   "cell_type": "code",
   "execution_count": 4,
   "metadata": {},
   "outputs": [],
   "source": [
    "def retorna_df(texto,lang):\n",
    "    lista=[]\n",
    "    for i in range(1,4): lista=(token(texto,i,lista))\n",
    "    v=CountFrequency(lista)    \n",
    "    freq=pd.DataFrame.from_dict(v, orient='index').reset_index()\n",
    "    ncolumn = 'freq_'+lang\n",
    "    freq.columns=['n-gramas',ncolumn]\n",
    "    df=freq.sort_values(by=[ncolumn],ascending=False)\n",
    "    df.index=[i for i in range(0,len(df))]\n",
    "    return df\n",
    "    "
   ]
  },
  {
   "cell_type": "code",
   "execution_count": 5,
   "metadata": {},
   "outputs": [],
   "source": [
    "def retorna_texto(path,cod):\n",
    "    file = open(path,encoding=cod)\n",
    "    texto = file.read()\n",
    "    texto=texto.replace('\\n', ' ')\n",
    "    \n",
    "    chars = ['\\r', '\\t', '\\s', '!', '\"', '#', '$', '%', '&', '(', ')', '*', '+', ',', '-', '.', '/','0', '1', '2', '3', '4', '5', '6', '7', '8', '9', ':', ';', '<', '=', '>', '?', '@', '[', '\\\\', ']', '^', '_', '`', '{', '|', '}', '~']\n",
    "\n",
    "    for c in chars:\n",
    "        texto = texto.replace(c,'')\n",
    "    \n",
    "    return texto.lower()"
   ]
  },
  {
   "cell_type": "code",
   "execution_count": 9,
   "metadata": {
    "scrolled": false
   },
   "outputs": [],
   "source": [
    "#for training\n",
    "languages = os.listdir('resources/train')\n",
    "\n",
    "for lang in languages:\n",
    "    path  = 'resources/train/'+lang\n",
    "    texto = retorna_texto(path,'utf8')\n",
    "    lang  = lang.split('.')    \n",
    "    \n",
    "    df    = retorna_df(texto, lang[0])   \n",
    "    \n",
    "    df.to_json(r'training/'+lang[0]+'.json')"
   ]
  },
  {
   "cell_type": "code",
   "execution_count": 10,
   "metadata": {},
   "outputs": [],
   "source": [
    "#for testing\n",
    "languages = os.listdir('resources/test')\n",
    "\n",
    "for lang in languages:\n",
    "    path  = 'resources/test/'+lang\n",
    "    texto = retorna_texto(path,'utf8')\n",
    "    lang  = lang.split('.')    \n",
    "    \n",
    "    df    = retorna_df(texto, lang[0])   \n",
    "    \n",
    "    df.to_json(r'testing/'+lang[0]+'.json')"
   ]
  }
 ],
 "metadata": {
  "kernelspec": {
   "display_name": "Python 3",
   "language": "python",
   "name": "python3"
  },
  "language_info": {
   "codemirror_mode": {
    "name": "ipython",
    "version": 3
   },
   "file_extension": ".py",
   "mimetype": "text/x-python",
   "name": "python",
   "nbconvert_exporter": "python",
   "pygments_lexer": "ipython3",
   "version": "3.7.6"
  }
 },
 "nbformat": 4,
 "nbformat_minor": 2
}
