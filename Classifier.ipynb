{
 "cells": [
  {
   "cell_type": "markdown",
   "metadata": {},
   "source": [
    "<h2>Library for language detection</h2>\n",
    "\n",
    "*`By Fábio Bif Goularte`\n",
    "(fabio.goularte@gmail.com)*"
   ]
  },
  {
   "cell_type": "markdown",
   "metadata": {},
   "source": [
    "<h4>Import modules</h4>"
   ]
  },
  {
   "cell_type": "code",
   "execution_count": 1,
   "metadata": {
    "collapsed": true
   },
   "outputs": [],
   "source": [
    "import collections\n",
    "import math\n",
    "import os\n",
    "import pandas as pd\n",
    "import numpy as np"
   ]
  },
  {
   "cell_type": "markdown",
   "metadata": {},
   "source": [
    "<h4>Detecting the language</h4>\n",
    "\n",
    "Set the language of the document to detecting (line in[6]) with a code from the table below (column Language code).\n",
    "\n",
    "| Language | Language code | Language | Language code |\n",
    "| :--- | :--- | :--- | :--- |\n",
    "| Afrikaans | af | Italian | it |\n",
    "| German | de | Japanese | ja |\n",
    "| English | en | Korean | ko |\n",
    "| Spanish | es | Portuguese (Brazil) | pt-BR |\n",
    "| Hindi | hi |  Chinese, Mandarin (Simplified) | zh-Hans |\n",
    "\n",
    "`Note:` It is possible to check other languages from those listed in the table above. Thus, provide a document in the desired language and run the Training Testing file to create the test document."
   ]
  },
  {
   "cell_type": "code",
   "execution_count": 4,
   "metadata": {
    "collapsed": false
   },
   "outputs": [],
   "source": [
    "#Code of language tested, e.g. 'pt-Br' to Portuguese\n",
    "languageDoc = 'pt-BR'\n",
    "\n",
    "#Load the n-gram model selected to test the language document (testing folder)\n",
    "df_test = pd.read_json('testing/'+languageDoc+'.json', orient='columns')\n",
    "df_test.columns=['n-gramas','freq_doc']\n",
    "\n",
    "#print(df_test)\n",
    "\n",
    "languages = os.listdir('testing')\n",
    "\n",
    "#Load the n-grams models used to train the classifier according to the files in testing (training folder)\n",
    "for langTrain in languages:\n",
    "    langTrain  = langTrain.split('.')\n",
    "    df_train   = pd.read_json('training/'+langTrain[0]+'.json', orient='columns')\n",
    "    df_test    = df_test.merge(df_train,how='left',on='n-gramas')"
   ]
  },
  {
   "cell_type": "markdown",
   "metadata": {},
   "source": [
    "<h4>Shows the n-gram models based on the documents in the testing folder</h4>"
   ]
  },
  {
   "cell_type": "code",
   "execution_count": 6,
   "metadata": {
    "collapsed": false,
    "scrolled": true
   },
   "outputs": [
    {
     "data": {
      "text/html": [
       "<div>\n",
       "<style scoped>\n",
       "    .dataframe tbody tr th:only-of-type {\n",
       "        vertical-align: middle;\n",
       "    }\n",
       "\n",
       "    .dataframe tbody tr th {\n",
       "        vertical-align: top;\n",
       "    }\n",
       "\n",
       "    .dataframe thead th {\n",
       "        text-align: right;\n",
       "    }\n",
       "</style>\n",
       "<table border=\"1\" class=\"dataframe\">\n",
       "  <thead>\n",
       "    <tr style=\"text-align: right;\">\n",
       "      <th></th>\n",
       "      <th>n-gramas</th>\n",
       "      <th>freq_doc</th>\n",
       "      <th>freq_af</th>\n",
       "      <th>freq_de</th>\n",
       "      <th>freq_en</th>\n",
       "      <th>freq_es</th>\n",
       "      <th>freq_hi</th>\n",
       "      <th>freq_it</th>\n",
       "      <th>freq_ja</th>\n",
       "      <th>freq_ko</th>\n",
       "      <th>freq_pt-BR</th>\n",
       "      <th>freq_zh-Hans</th>\n",
       "    </tr>\n",
       "  </thead>\n",
       "  <tbody>\n",
       "    <tr>\n",
       "      <th>0</th>\n",
       "      <td>a</td>\n",
       "      <td>445</td>\n",
       "      <td>605.0</td>\n",
       "      <td>525.0</td>\n",
       "      <td>705.0</td>\n",
       "      <td>1083.0</td>\n",
       "      <td>NaN</td>\n",
       "      <td>1004.0</td>\n",
       "      <td>NaN</td>\n",
       "      <td>NaN</td>\n",
       "      <td>949.0</td>\n",
       "      <td>1.0</td>\n",
       "    </tr>\n",
       "    <tr>\n",
       "      <th>1</th>\n",
       "      <td>e</td>\n",
       "      <td>391</td>\n",
       "      <td>1686.0</td>\n",
       "      <td>1751.0</td>\n",
       "      <td>1078.0</td>\n",
       "      <td>1301.0</td>\n",
       "      <td>NaN</td>\n",
       "      <td>1222.0</td>\n",
       "      <td>NaN</td>\n",
       "      <td>NaN</td>\n",
       "      <td>1181.0</td>\n",
       "      <td>NaN</td>\n",
       "    </tr>\n",
       "    <tr>\n",
       "      <th>2</th>\n",
       "      <td>s</td>\n",
       "      <td>327</td>\n",
       "      <td>444.0</td>\n",
       "      <td>502.0</td>\n",
       "      <td>465.0</td>\n",
       "      <td>675.0</td>\n",
       "      <td>NaN</td>\n",
       "      <td>511.0</td>\n",
       "      <td>NaN</td>\n",
       "      <td>NaN</td>\n",
       "      <td>705.0</td>\n",
       "      <td>NaN</td>\n",
       "    </tr>\n",
       "    <tr>\n",
       "      <th>3</th>\n",
       "      <td>o</td>\n",
       "      <td>307</td>\n",
       "      <td>414.0</td>\n",
       "      <td>173.0</td>\n",
       "      <td>706.0</td>\n",
       "      <td>828.0</td>\n",
       "      <td>NaN</td>\n",
       "      <td>935.0</td>\n",
       "      <td>NaN</td>\n",
       "      <td>NaN</td>\n",
       "      <td>959.0</td>\n",
       "      <td>NaN</td>\n",
       "    </tr>\n",
       "    <tr>\n",
       "      <th>4</th>\n",
       "      <td>i</td>\n",
       "      <td>243</td>\n",
       "      <td>751.0</td>\n",
       "      <td>766.0</td>\n",
       "      <td>698.0</td>\n",
       "      <td>736.0</td>\n",
       "      <td>NaN</td>\n",
       "      <td>1439.0</td>\n",
       "      <td>NaN</td>\n",
       "      <td>NaN</td>\n",
       "      <td>764.0</td>\n",
       "      <td>3.0</td>\n",
       "    </tr>\n",
       "  </tbody>\n",
       "</table>\n",
       "</div>"
      ],
      "text/plain": [
       "  n-gramas  freq_doc  freq_af  freq_de  freq_en  freq_es  freq_hi  freq_it  \\\n",
       "0        a       445    605.0    525.0    705.0   1083.0      NaN   1004.0   \n",
       "1        e       391   1686.0   1751.0   1078.0   1301.0      NaN   1222.0   \n",
       "2        s       327    444.0    502.0    465.0    675.0      NaN    511.0   \n",
       "3        o       307    414.0    173.0    706.0    828.0      NaN    935.0   \n",
       "4        i       243    751.0    766.0    698.0    736.0      NaN   1439.0   \n",
       "\n",
       "   freq_ja  freq_ko  freq_pt-BR  freq_zh-Hans  \n",
       "0      NaN      NaN       949.0           1.0  \n",
       "1      NaN      NaN      1181.0           NaN  \n",
       "2      NaN      NaN       705.0           NaN  \n",
       "3      NaN      NaN       959.0           NaN  \n",
       "4      NaN      NaN       764.0           3.0  "
      ]
     },
     "execution_count": 6,
     "metadata": {},
     "output_type": "execute_result"
    }
   ],
   "source": [
    "df_test.head()"
   ]
  },
  {
   "cell_type": "code",
   "execution_count": 7,
   "metadata": {
    "collapsed": true
   },
   "outputs": [],
   "source": [
    "df_new=df_test.copy()"
   ]
  },
  {
   "cell_type": "markdown",
   "metadata": {},
   "source": [
    "<h4>TF-IDF</h4>"
   ]
  },
  {
   "cell_type": "code",
   "execution_count": 8,
   "metadata": {
    "collapsed": true
   },
   "outputs": [],
   "source": [
    "coll = list(df_test.columns) \n",
    "coll.pop(0)\n",
    "\n",
    "#Calculating TF-IDF per n-grams on the selected test document and on the documents from training folder\n",
    "for w in coll:\n",
    "    df_new[w]=df_test[w]/len(df_test)*np.log10(len(coll)/df_test.count(axis='columns'))"
   ]
  },
  {
   "cell_type": "code",
   "execution_count": 9,
   "metadata": {
    "collapsed": false
   },
   "outputs": [
    {
     "data": {
      "text/html": [
       "<div>\n",
       "<style scoped>\n",
       "    .dataframe tbody tr th:only-of-type {\n",
       "        vertical-align: middle;\n",
       "    }\n",
       "\n",
       "    .dataframe tbody tr th {\n",
       "        vertical-align: top;\n",
       "    }\n",
       "\n",
       "    .dataframe thead th {\n",
       "        text-align: right;\n",
       "    }\n",
       "</style>\n",
       "<table border=\"1\" class=\"dataframe\">\n",
       "  <thead>\n",
       "    <tr style=\"text-align: right;\">\n",
       "      <th></th>\n",
       "      <th>n-gramas</th>\n",
       "      <th>freq_doc</th>\n",
       "      <th>freq_af</th>\n",
       "      <th>freq_de</th>\n",
       "      <th>freq_en</th>\n",
       "      <th>freq_es</th>\n",
       "      <th>freq_hi</th>\n",
       "      <th>freq_it</th>\n",
       "      <th>freq_ja</th>\n",
       "      <th>freq_ko</th>\n",
       "      <th>freq_pt-BR</th>\n",
       "      <th>freq_zh-Hans</th>\n",
       "    </tr>\n",
       "  </thead>\n",
       "  <tbody>\n",
       "    <tr>\n",
       "      <th>0</th>\n",
       "      <td>a</td>\n",
       "      <td>0.038322</td>\n",
       "      <td>0.052101</td>\n",
       "      <td>0.045211</td>\n",
       "      <td>0.060712</td>\n",
       "      <td>0.093264</td>\n",
       "      <td>NaN</td>\n",
       "      <td>0.086461</td>\n",
       "      <td>NaN</td>\n",
       "      <td>NaN</td>\n",
       "      <td>0.081725</td>\n",
       "      <td>0.000086</td>\n",
       "    </tr>\n",
       "    <tr>\n",
       "      <th>1</th>\n",
       "      <td>e</td>\n",
       "      <td>0.053435</td>\n",
       "      <td>0.230413</td>\n",
       "      <td>0.239296</td>\n",
       "      <td>0.147322</td>\n",
       "      <td>0.177798</td>\n",
       "      <td>NaN</td>\n",
       "      <td>0.167002</td>\n",
       "      <td>NaN</td>\n",
       "      <td>NaN</td>\n",
       "      <td>0.161399</td>\n",
       "      <td>NaN</td>\n",
       "    </tr>\n",
       "    <tr>\n",
       "      <th>2</th>\n",
       "      <td>s</td>\n",
       "      <td>0.044689</td>\n",
       "      <td>0.060678</td>\n",
       "      <td>0.068605</td>\n",
       "      <td>0.063548</td>\n",
       "      <td>0.092247</td>\n",
       "      <td>NaN</td>\n",
       "      <td>0.069835</td>\n",
       "      <td>NaN</td>\n",
       "      <td>NaN</td>\n",
       "      <td>0.096347</td>\n",
       "      <td>NaN</td>\n",
       "    </tr>\n",
       "    <tr>\n",
       "      <th>3</th>\n",
       "      <td>o</td>\n",
       "      <td>0.041955</td>\n",
       "      <td>0.056578</td>\n",
       "      <td>0.023643</td>\n",
       "      <td>0.096484</td>\n",
       "      <td>0.113157</td>\n",
       "      <td>NaN</td>\n",
       "      <td>0.127780</td>\n",
       "      <td>NaN</td>\n",
       "      <td>NaN</td>\n",
       "      <td>0.131060</td>\n",
       "      <td>NaN</td>\n",
       "    </tr>\n",
       "    <tr>\n",
       "      <th>4</th>\n",
       "      <td>i</td>\n",
       "      <td>0.020926</td>\n",
       "      <td>0.064674</td>\n",
       "      <td>0.065965</td>\n",
       "      <td>0.060110</td>\n",
       "      <td>0.063382</td>\n",
       "      <td>NaN</td>\n",
       "      <td>0.123922</td>\n",
       "      <td>NaN</td>\n",
       "      <td>NaN</td>\n",
       "      <td>0.065793</td>\n",
       "      <td>0.000258</td>\n",
       "    </tr>\n",
       "  </tbody>\n",
       "</table>\n",
       "</div>"
      ],
      "text/plain": [
       "  n-gramas  freq_doc   freq_af   freq_de   freq_en   freq_es  freq_hi  \\\n",
       "0        a  0.038322  0.052101  0.045211  0.060712  0.093264      NaN   \n",
       "1        e  0.053435  0.230413  0.239296  0.147322  0.177798      NaN   \n",
       "2        s  0.044689  0.060678  0.068605  0.063548  0.092247      NaN   \n",
       "3        o  0.041955  0.056578  0.023643  0.096484  0.113157      NaN   \n",
       "4        i  0.020926  0.064674  0.065965  0.060110  0.063382      NaN   \n",
       "\n",
       "    freq_it  freq_ja  freq_ko  freq_pt-BR  freq_zh-Hans  \n",
       "0  0.086461      NaN      NaN    0.081725      0.000086  \n",
       "1  0.167002      NaN      NaN    0.161399           NaN  \n",
       "2  0.069835      NaN      NaN    0.096347           NaN  \n",
       "3  0.127780      NaN      NaN    0.131060           NaN  \n",
       "4  0.123922      NaN      NaN    0.065793      0.000258  "
      ]
     },
     "execution_count": 9,
     "metadata": {},
     "output_type": "execute_result"
    }
   ],
   "source": [
    "df_new.head()"
   ]
  },
  {
   "cell_type": "markdown",
   "metadata": {},
   "source": [
    "<h4>Function used to calculate the cosine similarity</h4>"
   ]
  },
  {
   "cell_type": "code",
   "execution_count": 10,
   "metadata": {
    "collapsed": true
   },
   "outputs": [],
   "source": [
    "#Calculating cosine similarity\n",
    "def similarity(docA,docB):\n",
    "    numerator = 0\n",
    "    docA      = docA.replace(np.nan,0)\n",
    "    docB      = docB.replace(np.nan,0)\n",
    "    den_1     = math.sqrt(sum([docA[i]**2 for i in range(0,len(docA))]))\n",
    "    den_2     = math.sqrt(sum([docB[i]**2 for i in range(0,len(docB))]))\n",
    "    \n",
    "    for i in range(0,len(docA)): numerator=numerator+docA[i]*docB[i]\n",
    "    \n",
    "    denumerator = den_1*den_2\n",
    "    if denumerator == 0 : denumerator = 0.0001\n",
    "    \n",
    "    return numerator/denumerator    "
   ]
  },
  {
   "cell_type": "code",
   "execution_count": 11,
   "metadata": {
    "collapsed": true
   },
   "outputs": [],
   "source": [
    "coll.pop(0)\n",
    "classifier = {}\n",
    "\n",
    "#Calculating the cosine similarity between 'languageDoc' and the other documents \n",
    "for w in coll:\n",
    "    classifier[w] = similarity(df_new['freq_doc'],df_new[w])"
   ]
  },
  {
   "cell_type": "markdown",
   "metadata": {},
   "source": [
    "<h4>Shown the results</h4>"
   ]
  },
  {
   "cell_type": "code",
   "execution_count": 12,
   "metadata": {
    "collapsed": false
   },
   "outputs": [
    {
     "name": "stdout",
     "output_type": "stream",
     "text": [
      "Doc tested: pt-BR\n",
      "\n",
      "Classification by similarity:\n",
      "freq_pt-BR: 0.9512008768057516\n",
      "freq_es: 0.9180541189217364\n",
      "freq_it: 0.8732348939396601\n",
      "freq_en: 0.8575734253085008\n",
      "freq_de: 0.7841373356480694\n",
      "freq_af: 0.7555665053842838\n",
      "freq_zh-Hans: 0.21549506976710367\n",
      "freq_hi: 0.0\n",
      "freq_ja: 0.0\n",
      "freq_ko: 0.0\n"
     ]
    }
   ],
   "source": [
    "print('Doc tested: '+languageDoc)\n",
    "print('\\nClassification by similarity:')\n",
    "\n",
    "for key, value in sorted(classifier.items(), key=lambda item: item[1], reverse=True):\n",
    "    print(\"%s: %s\" % (key, value))"
   ]
  },
  {
   "cell_type": "code",
   "execution_count": null,
   "metadata": {
    "collapsed": true
   },
   "outputs": [],
   "source": []
  }
 ],
 "metadata": {
  "kernelspec": {
   "display_name": "Python 3",
   "language": "python",
   "name": "python3"
  },
  "language_info": {
   "codemirror_mode": {
    "name": "ipython",
    "version": 3
   },
   "file_extension": ".py",
   "mimetype": "text/x-python",
   "name": "python",
   "nbconvert_exporter": "python",
   "pygments_lexer": "ipython3",
   "version": "3.6.0"
  }
 },
 "nbformat": 4,
 "nbformat_minor": 2
}
